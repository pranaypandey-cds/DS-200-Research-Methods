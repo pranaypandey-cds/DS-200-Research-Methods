{
  "nbformat": 4,
  "nbformat_minor": 0,
  "metadata": {
    "colab": {
      "provenance": [],
      "authorship_tag": "ABX9TyOnMs6O98O20i81d6kLsZOE",
      "include_colab_link": true
    },
    "kernelspec": {
      "name": "python3",
      "display_name": "Python 3"
    },
    "language_info": {
      "name": "python"
    }
  },
  "cells": [
    {
      "cell_type": "markdown",
      "metadata": {
        "id": "view-in-github",
        "colab_type": "text"
      },
      "source": [
        "<a href=\"https://colab.research.google.com/github/pranaypandey-cds/DS-200-Research-Methods/blob/main/DS200.ipynb\" target=\"_parent\"><img src=\"https://colab.research.google.com/assets/colab-badge.svg\" alt=\"Open In Colab\"/></a>"
      ]
    },
    {
      "cell_type": "markdown",
      "source": [
        "# DS 200 (0:1)  Research Methods Assignment \n",
        "\n",
        "I have used data from https://data.gov.in"
      ],
      "metadata": {
        "id": "yJ91P1x2WeXJ"
      }
    },
    {
      "cell_type": "code",
      "execution_count": 2,
      "metadata": {
        "id": "UbV88BugsTJR"
      },
      "outputs": [],
      "source": [
        "import pandas as pd\n",
        "import matplotlib.pyplot as plt\n",
        "import numpy as np"
      ]
    },
    {
      "cell_type": "code",
      "source": [
        "pip install --upgrade xlrd"
      ],
      "metadata": {
        "colab": {
          "base_uri": "https://localhost:8080/"
        },
        "id": "FiL2WH5vxVus",
        "outputId": "0031743a-90e9-4396-ef8e-f5eee465075a"
      },
      "execution_count": 3,
      "outputs": [
        {
          "output_type": "stream",
          "name": "stdout",
          "text": [
            "Looking in indexes: https://pypi.org/simple, https://us-python.pkg.dev/colab-wheels/public/simple/\n",
            "Requirement already satisfied: xlrd in /usr/local/lib/python3.7/dist-packages (2.0.1)\n"
          ]
        }
      ]
    },
    {
      "cell_type": "code",
      "source": [
        "df = pd.read_excel(\"/content/Rural_Health_Assistants_and_Doctors_At_PHCs.xls\")\n",
        "df = pd.DataFrame(df)"
      ],
      "metadata": {
        "id": "rPukP7qmtVlM"
      },
      "execution_count": 4,
      "outputs": []
    },
    {
      "cell_type": "code",
      "source": [
        "df.set_index(\"S. No.\")\n",
        "df.head()"
      ],
      "metadata": {
        "colab": {
          "base_uri": "https://localhost:8080/",
          "height": 204
        },
        "id": "DcDnVoMLx92C",
        "outputId": "8561fe2b-501c-4ddc-f99f-7745d220e02e"
      },
      "execution_count": 5,
      "outputs": [
        {
          "output_type": "execute_result",
          "data": {
            "text/plain": [
              "   S. No.           State/UT  [R] Required1  [S] Sanctioned  [P] In Position  \\\n",
              "0       1     Andhra Pradesh           1624          2424.0             2348   \n",
              "1       2  Arunachal Pradesh             97             NaN               92   \n",
              "2       3              Assam            938             NaN             1557   \n",
              "3       4              Bihar           1863          2078.0             3532   \n",
              "4       5       Chhattisgarh            741          1482.0              424   \n",
              "\n",
              "  [S-P] Vacant [R-P] Shortfall  \n",
              "0           76         Surplus  \n",
              "1          NaN               5  \n",
              "2          NaN         Surplus  \n",
              "3      Surplus         Surplus  \n",
              "4         1058             317  "
            ],
            "text/html": [
              "\n",
              "  <div id=\"df-c744b8be-76c8-42f3-8ed0-74052c22a5fc\">\n",
              "    <div class=\"colab-df-container\">\n",
              "      <div>\n",
              "<style scoped>\n",
              "    .dataframe tbody tr th:only-of-type {\n",
              "        vertical-align: middle;\n",
              "    }\n",
              "\n",
              "    .dataframe tbody tr th {\n",
              "        vertical-align: top;\n",
              "    }\n",
              "\n",
              "    .dataframe thead th {\n",
              "        text-align: right;\n",
              "    }\n",
              "</style>\n",
              "<table border=\"1\" class=\"dataframe\">\n",
              "  <thead>\n",
              "    <tr style=\"text-align: right;\">\n",
              "      <th></th>\n",
              "      <th>S. No.</th>\n",
              "      <th>State/UT</th>\n",
              "      <th>[R] Required1</th>\n",
              "      <th>[S] Sanctioned</th>\n",
              "      <th>[P] In Position</th>\n",
              "      <th>[S-P] Vacant</th>\n",
              "      <th>[R-P] Shortfall</th>\n",
              "    </tr>\n",
              "  </thead>\n",
              "  <tbody>\n",
              "    <tr>\n",
              "      <th>0</th>\n",
              "      <td>1</td>\n",
              "      <td>Andhra Pradesh</td>\n",
              "      <td>1624</td>\n",
              "      <td>2424.0</td>\n",
              "      <td>2348</td>\n",
              "      <td>76</td>\n",
              "      <td>Surplus</td>\n",
              "    </tr>\n",
              "    <tr>\n",
              "      <th>1</th>\n",
              "      <td>2</td>\n",
              "      <td>Arunachal Pradesh</td>\n",
              "      <td>97</td>\n",
              "      <td>NaN</td>\n",
              "      <td>92</td>\n",
              "      <td>NaN</td>\n",
              "      <td>5</td>\n",
              "    </tr>\n",
              "    <tr>\n",
              "      <th>2</th>\n",
              "      <td>3</td>\n",
              "      <td>Assam</td>\n",
              "      <td>938</td>\n",
              "      <td>NaN</td>\n",
              "      <td>1557</td>\n",
              "      <td>NaN</td>\n",
              "      <td>Surplus</td>\n",
              "    </tr>\n",
              "    <tr>\n",
              "      <th>3</th>\n",
              "      <td>4</td>\n",
              "      <td>Bihar</td>\n",
              "      <td>1863</td>\n",
              "      <td>2078.0</td>\n",
              "      <td>3532</td>\n",
              "      <td>Surplus</td>\n",
              "      <td>Surplus</td>\n",
              "    </tr>\n",
              "    <tr>\n",
              "      <th>4</th>\n",
              "      <td>5</td>\n",
              "      <td>Chhattisgarh</td>\n",
              "      <td>741</td>\n",
              "      <td>1482.0</td>\n",
              "      <td>424</td>\n",
              "      <td>1058</td>\n",
              "      <td>317</td>\n",
              "    </tr>\n",
              "  </tbody>\n",
              "</table>\n",
              "</div>\n",
              "      <button class=\"colab-df-convert\" onclick=\"convertToInteractive('df-c744b8be-76c8-42f3-8ed0-74052c22a5fc')\"\n",
              "              title=\"Convert this dataframe to an interactive table.\"\n",
              "              style=\"display:none;\">\n",
              "        \n",
              "  <svg xmlns=\"http://www.w3.org/2000/svg\" height=\"24px\"viewBox=\"0 0 24 24\"\n",
              "       width=\"24px\">\n",
              "    <path d=\"M0 0h24v24H0V0z\" fill=\"none\"/>\n",
              "    <path d=\"M18.56 5.44l.94 2.06.94-2.06 2.06-.94-2.06-.94-.94-2.06-.94 2.06-2.06.94zm-11 1L8.5 8.5l.94-2.06 2.06-.94-2.06-.94L8.5 2.5l-.94 2.06-2.06.94zm10 10l.94 2.06.94-2.06 2.06-.94-2.06-.94-.94-2.06-.94 2.06-2.06.94z\"/><path d=\"M17.41 7.96l-1.37-1.37c-.4-.4-.92-.59-1.43-.59-.52 0-1.04.2-1.43.59L10.3 9.45l-7.72 7.72c-.78.78-.78 2.05 0 2.83L4 21.41c.39.39.9.59 1.41.59.51 0 1.02-.2 1.41-.59l7.78-7.78 2.81-2.81c.8-.78.8-2.07 0-2.86zM5.41 20L4 18.59l7.72-7.72 1.47 1.35L5.41 20z\"/>\n",
              "  </svg>\n",
              "      </button>\n",
              "      \n",
              "  <style>\n",
              "    .colab-df-container {\n",
              "      display:flex;\n",
              "      flex-wrap:wrap;\n",
              "      gap: 12px;\n",
              "    }\n",
              "\n",
              "    .colab-df-convert {\n",
              "      background-color: #E8F0FE;\n",
              "      border: none;\n",
              "      border-radius: 50%;\n",
              "      cursor: pointer;\n",
              "      display: none;\n",
              "      fill: #1967D2;\n",
              "      height: 32px;\n",
              "      padding: 0 0 0 0;\n",
              "      width: 32px;\n",
              "    }\n",
              "\n",
              "    .colab-df-convert:hover {\n",
              "      background-color: #E2EBFA;\n",
              "      box-shadow: 0px 1px 2px rgba(60, 64, 67, 0.3), 0px 1px 3px 1px rgba(60, 64, 67, 0.15);\n",
              "      fill: #174EA6;\n",
              "    }\n",
              "\n",
              "    [theme=dark] .colab-df-convert {\n",
              "      background-color: #3B4455;\n",
              "      fill: #D2E3FC;\n",
              "    }\n",
              "\n",
              "    [theme=dark] .colab-df-convert:hover {\n",
              "      background-color: #434B5C;\n",
              "      box-shadow: 0px 1px 3px 1px rgba(0, 0, 0, 0.15);\n",
              "      filter: drop-shadow(0px 1px 2px rgba(0, 0, 0, 0.3));\n",
              "      fill: #FFFFFF;\n",
              "    }\n",
              "  </style>\n",
              "\n",
              "      <script>\n",
              "        const buttonEl =\n",
              "          document.querySelector('#df-c744b8be-76c8-42f3-8ed0-74052c22a5fc button.colab-df-convert');\n",
              "        buttonEl.style.display =\n",
              "          google.colab.kernel.accessAllowed ? 'block' : 'none';\n",
              "\n",
              "        async function convertToInteractive(key) {\n",
              "          const element = document.querySelector('#df-c744b8be-76c8-42f3-8ed0-74052c22a5fc');\n",
              "          const dataTable =\n",
              "            await google.colab.kernel.invokeFunction('convertToInteractive',\n",
              "                                                     [key], {});\n",
              "          if (!dataTable) return;\n",
              "\n",
              "          const docLinkHtml = 'Like what you see? Visit the ' +\n",
              "            '<a target=\"_blank\" href=https://colab.research.google.com/notebooks/data_table.ipynb>data table notebook</a>'\n",
              "            + ' to learn more about interactive tables.';\n",
              "          element.innerHTML = '';\n",
              "          dataTable['output_type'] = 'display_data';\n",
              "          await google.colab.output.renderOutput(dataTable, element);\n",
              "          const docLink = document.createElement('div');\n",
              "          docLink.innerHTML = docLinkHtml;\n",
              "          element.appendChild(docLink);\n",
              "        }\n",
              "      </script>\n",
              "    </div>\n",
              "  </div>\n",
              "  "
            ]
          },
          "metadata": {},
          "execution_count": 5
        }
      ]
    },
    {
      "cell_type": "code",
      "source": [
        "df = df[df['[S] Sanctioned'].notna()]\n",
        "df.head()"
      ],
      "metadata": {
        "colab": {
          "base_uri": "https://localhost:8080/",
          "height": 204
        },
        "id": "ko_oJtre0JV_",
        "outputId": "0f9459ce-9efc-44c1-c6e2-b12878b72c35"
      },
      "execution_count": 6,
      "outputs": [
        {
          "output_type": "execute_result",
          "data": {
            "text/plain": [
              "   S. No.        State/UT  [R] Required1  [S] Sanctioned  [P] In Position  \\\n",
              "0       1  Andhra Pradesh           1624          2424.0             2348   \n",
              "3       4           Bihar           1863          2078.0             3532   \n",
              "4       5    Chhattisgarh            741          1482.0              424   \n",
              "5       6             Goa             19            46.0               41   \n",
              "6       7         Gujarat           1123          1123.0              778   \n",
              "\n",
              "  [S-P] Vacant [R-P] Shortfall  \n",
              "0           76         Surplus  \n",
              "3      Surplus         Surplus  \n",
              "4         1058             317  \n",
              "5            5         Surplus  \n",
              "6          345             345  "
            ],
            "text/html": [
              "\n",
              "  <div id=\"df-5efa51df-0744-4819-968c-5a5464da1553\">\n",
              "    <div class=\"colab-df-container\">\n",
              "      <div>\n",
              "<style scoped>\n",
              "    .dataframe tbody tr th:only-of-type {\n",
              "        vertical-align: middle;\n",
              "    }\n",
              "\n",
              "    .dataframe tbody tr th {\n",
              "        vertical-align: top;\n",
              "    }\n",
              "\n",
              "    .dataframe thead th {\n",
              "        text-align: right;\n",
              "    }\n",
              "</style>\n",
              "<table border=\"1\" class=\"dataframe\">\n",
              "  <thead>\n",
              "    <tr style=\"text-align: right;\">\n",
              "      <th></th>\n",
              "      <th>S. No.</th>\n",
              "      <th>State/UT</th>\n",
              "      <th>[R] Required1</th>\n",
              "      <th>[S] Sanctioned</th>\n",
              "      <th>[P] In Position</th>\n",
              "      <th>[S-P] Vacant</th>\n",
              "      <th>[R-P] Shortfall</th>\n",
              "    </tr>\n",
              "  </thead>\n",
              "  <tbody>\n",
              "    <tr>\n",
              "      <th>0</th>\n",
              "      <td>1</td>\n",
              "      <td>Andhra Pradesh</td>\n",
              "      <td>1624</td>\n",
              "      <td>2424.0</td>\n",
              "      <td>2348</td>\n",
              "      <td>76</td>\n",
              "      <td>Surplus</td>\n",
              "    </tr>\n",
              "    <tr>\n",
              "      <th>3</th>\n",
              "      <td>4</td>\n",
              "      <td>Bihar</td>\n",
              "      <td>1863</td>\n",
              "      <td>2078.0</td>\n",
              "      <td>3532</td>\n",
              "      <td>Surplus</td>\n",
              "      <td>Surplus</td>\n",
              "    </tr>\n",
              "    <tr>\n",
              "      <th>4</th>\n",
              "      <td>5</td>\n",
              "      <td>Chhattisgarh</td>\n",
              "      <td>741</td>\n",
              "      <td>1482.0</td>\n",
              "      <td>424</td>\n",
              "      <td>1058</td>\n",
              "      <td>317</td>\n",
              "    </tr>\n",
              "    <tr>\n",
              "      <th>5</th>\n",
              "      <td>6</td>\n",
              "      <td>Goa</td>\n",
              "      <td>19</td>\n",
              "      <td>46.0</td>\n",
              "      <td>41</td>\n",
              "      <td>5</td>\n",
              "      <td>Surplus</td>\n",
              "    </tr>\n",
              "    <tr>\n",
              "      <th>6</th>\n",
              "      <td>7</td>\n",
              "      <td>Gujarat</td>\n",
              "      <td>1123</td>\n",
              "      <td>1123.0</td>\n",
              "      <td>778</td>\n",
              "      <td>345</td>\n",
              "      <td>345</td>\n",
              "    </tr>\n",
              "  </tbody>\n",
              "</table>\n",
              "</div>\n",
              "      <button class=\"colab-df-convert\" onclick=\"convertToInteractive('df-5efa51df-0744-4819-968c-5a5464da1553')\"\n",
              "              title=\"Convert this dataframe to an interactive table.\"\n",
              "              style=\"display:none;\">\n",
              "        \n",
              "  <svg xmlns=\"http://www.w3.org/2000/svg\" height=\"24px\"viewBox=\"0 0 24 24\"\n",
              "       width=\"24px\">\n",
              "    <path d=\"M0 0h24v24H0V0z\" fill=\"none\"/>\n",
              "    <path d=\"M18.56 5.44l.94 2.06.94-2.06 2.06-.94-2.06-.94-.94-2.06-.94 2.06-2.06.94zm-11 1L8.5 8.5l.94-2.06 2.06-.94-2.06-.94L8.5 2.5l-.94 2.06-2.06.94zm10 10l.94 2.06.94-2.06 2.06-.94-2.06-.94-.94-2.06-.94 2.06-2.06.94z\"/><path d=\"M17.41 7.96l-1.37-1.37c-.4-.4-.92-.59-1.43-.59-.52 0-1.04.2-1.43.59L10.3 9.45l-7.72 7.72c-.78.78-.78 2.05 0 2.83L4 21.41c.39.39.9.59 1.41.59.51 0 1.02-.2 1.41-.59l7.78-7.78 2.81-2.81c.8-.78.8-2.07 0-2.86zM5.41 20L4 18.59l7.72-7.72 1.47 1.35L5.41 20z\"/>\n",
              "  </svg>\n",
              "      </button>\n",
              "      \n",
              "  <style>\n",
              "    .colab-df-container {\n",
              "      display:flex;\n",
              "      flex-wrap:wrap;\n",
              "      gap: 12px;\n",
              "    }\n",
              "\n",
              "    .colab-df-convert {\n",
              "      background-color: #E8F0FE;\n",
              "      border: none;\n",
              "      border-radius: 50%;\n",
              "      cursor: pointer;\n",
              "      display: none;\n",
              "      fill: #1967D2;\n",
              "      height: 32px;\n",
              "      padding: 0 0 0 0;\n",
              "      width: 32px;\n",
              "    }\n",
              "\n",
              "    .colab-df-convert:hover {\n",
              "      background-color: #E2EBFA;\n",
              "      box-shadow: 0px 1px 2px rgba(60, 64, 67, 0.3), 0px 1px 3px 1px rgba(60, 64, 67, 0.15);\n",
              "      fill: #174EA6;\n",
              "    }\n",
              "\n",
              "    [theme=dark] .colab-df-convert {\n",
              "      background-color: #3B4455;\n",
              "      fill: #D2E3FC;\n",
              "    }\n",
              "\n",
              "    [theme=dark] .colab-df-convert:hover {\n",
              "      background-color: #434B5C;\n",
              "      box-shadow: 0px 1px 3px 1px rgba(0, 0, 0, 0.15);\n",
              "      filter: drop-shadow(0px 1px 2px rgba(0, 0, 0, 0.3));\n",
              "      fill: #FFFFFF;\n",
              "    }\n",
              "  </style>\n",
              "\n",
              "      <script>\n",
              "        const buttonEl =\n",
              "          document.querySelector('#df-5efa51df-0744-4819-968c-5a5464da1553 button.colab-df-convert');\n",
              "        buttonEl.style.display =\n",
              "          google.colab.kernel.accessAllowed ? 'block' : 'none';\n",
              "\n",
              "        async function convertToInteractive(key) {\n",
              "          const element = document.querySelector('#df-5efa51df-0744-4819-968c-5a5464da1553');\n",
              "          const dataTable =\n",
              "            await google.colab.kernel.invokeFunction('convertToInteractive',\n",
              "                                                     [key], {});\n",
              "          if (!dataTable) return;\n",
              "\n",
              "          const docLinkHtml = 'Like what you see? Visit the ' +\n",
              "            '<a target=\"_blank\" href=https://colab.research.google.com/notebooks/data_table.ipynb>data table notebook</a>'\n",
              "            + ' to learn more about interactive tables.';\n",
              "          element.innerHTML = '';\n",
              "          dataTable['output_type'] = 'display_data';\n",
              "          await google.colab.output.renderOutput(dataTable, element);\n",
              "          const docLink = document.createElement('div');\n",
              "          docLink.innerHTML = docLinkHtml;\n",
              "          element.appendChild(docLink);\n",
              "        }\n",
              "      </script>\n",
              "    </div>\n",
              "  </div>\n",
              "  "
            ]
          },
          "metadata": {},
          "execution_count": 6
        }
      ]
    },
    {
      "cell_type": "code",
      "source": [
        "courses = df['State/UT'][0:5]\n",
        "X_axis = np.arange(5)+1\n",
        "values = list(df['[R] Required1'][0:5])\n",
        "values1 = list(df['[P] In Position'][0:5])\n",
        "plt\n",
        "fig, ax = plt.subplots()\n",
        "fig.set_size_inches((15,10))\n",
        "ax.bar(X_axis- 0.2, values, color ='orange',width = 0.4, label = \"Required\")\n",
        "plt.bar(X_axis+ 0.2, values1, color ='blue',width = 0.4, label = \"In Position\")\n",
        "ax.set_xticks(X_axis)\n",
        "ax.set_xticklabels(list(courses))\n",
        "plt.xlabel(\"States\", fontsize=20)\n",
        "plt.ylabel(\"Count\", fontsize=20)\n",
        "plt.title(\"5 States Data of Doctors\",fontsize=20)\n",
        "ax.legend(loc=\"upper right\")\n",
        "plt.show()"
      ],
      "metadata": {
        "colab": {
          "base_uri": "https://localhost:8080/",
          "height": 636
        },
        "id": "A6gp1tt5wHAB",
        "outputId": "1286c769-b5dc-4eae-9ef3-cec833747a0d"
      },
      "execution_count": 7,
      "outputs": [
        {
          "output_type": "display_data",
          "data": {
            "text/plain": [
              "<Figure size 1080x720 with 1 Axes>"
            ],
            "image/png": "[encoded data removed]"
          },
          "metadata": {
            "needs_background": "light"
          }
        }
      ]
    },
    {
      "cell_type": "code",
      "source": [
        "labels = df['State/UT'][5:10]\n",
        "sizes = list(df['[P] In Position'][5:10])\n",
        "\n",
        "fig1, ax1 = plt.subplots()\n",
        "fig1.set_size_inches((13,8))\n",
        "ax1.pie(sizes, labels=labels, autopct='%1.1f%%',\n",
        "        shadow=True, startangle=90)\n",
        "ax1.axis('equal')  # Equal aspect ratio ensures that pie is drawn as a circle.\n",
        "plt.title(\"Percentage of doctors available in 5 different states\",fontsize=20)\n",
        "plt.show()"
      ],
      "metadata": {
        "colab": {
          "base_uri": "https://localhost:8080/",
          "height": 488
        },
        "id": "LUmn3RUxzfzh",
        "outputId": "32d67388-1ff2-4a38-97df-d2c2483e47df"
      },
      "execution_count": 8,
      "outputs": [
        {
          "output_type": "display_data",
          "data": {
            "text/plain": [
              "<Figure size 936x576 with 1 Axes>"
            ],
            "image/png": "[encoded data removed]"
          },
          "metadata": {}
        }
      ]
    },
    {
      "cell_type": "code",
      "source": [
        "values+values1"
      ],
      "metadata": {
        "colab": {
          "base_uri": "https://localhost:8080/"
        },
        "id": "T8NFKIgmQw_l",
        "outputId": "60fe8703-65a2-478e-ffc5-12548067c619"
      },
      "execution_count": 9,
      "outputs": [
        {
          "output_type": "execute_result",
          "data": {
            "text/plain": [
              "[1624, 1863, 741, 19, 1123, 2348, 3532, 424, 41, 778]"
            ]
          },
          "metadata": {},
          "execution_count": 9
        }
      ]
    },
    {
      "cell_type": "code",
      "source": [
        "courses = df['State/UT'][13:16]\n",
        "X_axis = np.arange(3)+1\n",
        "values = list(df['[R] Required1'][13:16])\n",
        "values1 = list(df['[P] In Position'][13:16])\n",
        "values2 = list(df['[S-P] Vacant'][13:16])\n",
        "fig, ax = plt.subplots()\n",
        "fig.set_size_inches((15,10))\n",
        "plt.bar(X_axis, values, color='orange',label = \"Required\")\n",
        "plt.bar(X_axis, values1, bottom = values, color='green',label = \"In position\")\n",
        "plt.bar(X_axis, values2, bottom = np.add(values,values1), color='blue',label = \"Vaccant\")\n",
        "\n",
        "ax.set_xticks(X_axis)\n",
        "ax.set_xticklabels(list(courses))\n",
        "plt.xlabel(\"States\", fontsize=20)\n",
        "plt.ylabel(\"Count\", fontsize=20)\n",
        "plt.title(\"Data of Doctors in 3 states\",fontsize=20)\n",
        "ax.legend(loc=\"upper right\")\n",
        "plt.show()"
      ],
      "metadata": {
        "colab": {
          "base_uri": "https://localhost:8080/",
          "height": 636
        },
        "id": "o0x3S3uOKuAB",
        "outputId": "b51f94da-6179-4b9e-c40f-4fe9bf2d769c"
      },
      "execution_count": 15,
      "outputs": [
        {
          "output_type": "display_data",
          "data": {
            "text/plain": [
              "<Figure size 1080x720 with 1 Axes>"
            ],
            "image/png": "[encoded data removed]"
          },
          "metadata": {
            "needs_background": "light"
          }
        }
      ]
    },
    {
      "cell_type": "code",
      "source": [],
      "metadata": {
        "id": "lm5QD2VJPX4a"
      },
      "execution_count": 10,
      "outputs": []
    }
  ]
}